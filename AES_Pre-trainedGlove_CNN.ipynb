{
 "cells": [
  {
   "cell_type": "code",
   "execution_count": 1,
   "metadata": {},
   "outputs": [
    {
     "name": "stderr",
     "output_type": "stream",
     "text": [
      "Using TensorFlow backend.\n"
     ]
    }
   ],
   "source": [
    "import os\n",
    "import numpy as np\n",
    "import collections\n",
    "import pandas as pd\n",
    "import nltk\n",
    "from sklearn.model_selection import train_test_split\n",
    "import matplotlib.pyplot as plt\n",
    "\n",
    "from keras.preprocessing import text, sequence\n",
    "from keras.preprocessing.text import Tokenizer\n",
    "from keras.preprocessing.sequence import pad_sequences\n",
    "from keras.utils import to_categorical, np_utils\n",
    "from keras.layers import Dense, Input, Embedding,Conv1D,MaxPooling1D\n",
    "from keras.layers import Dropout, GlobalMaxPooling1D\n",
    "from keras.models import Model, Sequential\n",
    "from keras.callbacks import ReduceLROnPlateau, ModelCheckpoint, EarlyStopping"
   ]
  },
  {
   "cell_type": "code",
   "execution_count": 2,
   "metadata": {},
   "outputs": [
    {
     "name": "stdout",
     "output_type": "stream",
     "text": [
      "400000 word-embedding_vectors added in dictonary\n"
     ]
    }
   ],
   "source": [
    "#Import pre-trained word vector and form a dictionary in which words in the embedding set are mapped to their respective embedding vector\n",
    "\n",
    "embeddings_dict = {}\n",
    "glove_file = open('glove.6B.100d.txt', encoding=\"utf8\")\n",
    "for line in glove_file:\n",
    "    values = line.split()\n",
    "    word = values[0]\n",
    "    coefficients = np.asarray(values[1:], dtype='float32')\n",
    "    embeddings_dict[word] = coefficients\n",
    "glove_file.close()\n",
    "\n",
    "print('%s word-embedding_vectors added in dictonary' % len(embeddings_dict))"
   ]
  },
  {
   "cell_type": "code",
   "execution_count": 3,
   "metadata": {},
   "outputs": [],
   "source": [
    "#Import dataset.\n",
    "df = pd.read_csv(\"globalenglish_essay_scoring.csv\", encoding = 'latin1')\n",
    "df = df[np.isfinite(df['domain1_score'])]\n",
    "essay_text = df.essay"
   ]
  },
  {
   "cell_type": "code",
   "execution_count": 4,
   "metadata": {},
   "outputs": [
    {
     "name": "stdout",
     "output_type": "stream",
     "text": [
      "45026 words found in dataset\n",
      "1204 words in longest essay\n"
     ]
    }
   ],
   "source": [
    "#Count words in longest essay so as to pad sentence to match length \n",
    "counter = collections.Counter()\n",
    "maxlen = 0\n",
    "for line in essay_text:\n",
    "    sent = line.strip()\n",
    "    words = [x.lower() for x in nltk.word_tokenize(sent)]\n",
    "    if len(words) > maxlen:\n",
    "        maxlen = len(words)\n",
    "    \n",
    "    for word in words:\n",
    "        counter[word] += 1\n",
    "        \n",
    "print ('%s words found in dataset' % len(counter.keys()))        \n",
    "print('%s words in longest essay' % maxlen)"
   ]
  },
  {
   "cell_type": "code",
   "execution_count": 5,
   "metadata": {},
   "outputs": [],
   "source": [
    "VOCAB_SIZE = 40000\n",
    "EMBEDDING_DIM = 100\n",
    "BATCH_SIZE = 128\n",
    "NUM_EPOCHS = 10\n",
    "NUM_FILTERS = 128\n",
    "NUM_WORDS = 5"
   ]
  },
  {
   "cell_type": "code",
   "execution_count": 6,
   "metadata": {},
   "outputs": [
    {
     "name": "stdout",
     "output_type": "stream",
     "text": [
      "Found 41432 unique tokens.\n",
      "Shape of input data: (12977, 1205)\n",
      "Shape of label: (12977, 61)\n"
     ]
    }
   ],
   "source": [
    "tokenizer = Tokenizer(num_words=VOCAB_SIZE)\n",
    "tokenizer.fit_on_texts(essay_text)\n",
    "sequences = tokenizer.texts_to_sequences(essay_text)\n",
    "\n",
    "word_index = tokenizer.word_index\n",
    "print('Found %s unique tokens.' % len(word_index))\n",
    "\n",
    "X = pad_sequences(sequences, maxlen=maxlen)\n",
    "eset = df.essay_set.values.reshape(df.essay_set.shape[0], 1)\n",
    "X = np.append(X, eset, 1)\n",
    "maxlen = maxlen + 1\n",
    "\n",
    "#Convert labels into one hot matrix\n",
    "score = df.domain1_score\n",
    "Y = np_utils.to_categorical(score)\n",
    "\n",
    "print('Shape of input data:', X.shape)\n",
    "print('Shape of label:', Y.shape)"
   ]
  },
  {
   "cell_type": "code",
   "execution_count": 7,
   "metadata": {},
   "outputs": [
    {
     "name": "stdout",
     "output_type": "stream",
     "text": [
      "(10381, 1205) (2596, 1205) (10381, 61) (2596, 61)\n"
     ]
    }
   ],
   "source": [
    "Xtrain, Xtest, Ytrain, Ytest = train_test_split(X, Y, test_size=0.2)\n",
    "print(Xtrain.shape, Xtest.shape, Ytrain.shape, Ytest.shape)"
   ]
  },
  {
   "cell_type": "code",
   "execution_count": 8,
   "metadata": {},
   "outputs": [],
   "source": [
    "# prepare embedding matrix\n",
    "num_words = len(word_index)\n",
    "embedding_matrix = np.zeros((num_words, EMBEDDING_DIM))\n",
    "for word, i in word_index.items():\n",
    "    if i >= maxlen:\n",
    "        continue\n",
    "    embedding_vector = embeddings_dict.get(word)\n",
    "    if embedding_vector is not None:\n",
    "        # words not found in embedding index will be all-zeros.\n",
    "        embedding_matrix[i] = embedding_vector\n",
    "\n",
    "# load pre-trained word embeddings into an Embedding layer\n",
    "# note that we set trainable = False so as to keep the embeddings fixed\n",
    "embedding_layer = Embedding(num_words,\n",
    "                            EMBEDDING_DIM,\n",
    "                            weights=[embedding_matrix],\n",
    "                            input_length=maxlen,\n",
    "                            trainable=True)\n"
   ]
  },
  {
   "cell_type": "markdown",
   "metadata": {},
   "source": [
    "inp = Input(shape=(maxlen, ))\n",
    "x = embedding_layer(inp)\n",
    "x = Conv1D(128, 5, activation='relu')(x)\n",
    "x = MaxPooling1D(5)(x)\n",
    "x = Conv1D(128, 5, activation='relu')(x)\n",
    "x = MaxPooling1D(5)(x)\n",
    "x = Conv1D(128, 5, activation='relu')(x)\n",
    "x = GlobalMaxPooling1D()(x)\n",
    "x = Dense(61, activation='relu')(x)\n",
    "y = Dense(61, activation='softmax')(x)"
   ]
  },
  {
   "cell_type": "code",
   "execution_count": 9,
   "metadata": {},
   "outputs": [],
   "source": [
    "model = Sequential()\n",
    "model.add(Embedding(num_words, EMBEDDING_DIM, weights=[embedding_matrix], input_length=maxlen, trainable=True))\n",
    "model.add(Conv1D(filters=NUM_FILTERS, kernel_size=NUM_WORDS, activation=\"relu\"))\n",
    "model.add(MaxPooling1D(pool_size=5, strides=None, padding='valid'))\n",
    "model.add(Conv1D(filters=NUM_FILTERS, kernel_size=NUM_WORDS, activation=\"relu\"))\n",
    "model.add(MaxPooling1D(pool_size=5, strides=None, padding='valid'))\n",
    "model.add(Conv1D(filters=NUM_FILTERS, kernel_size=NUM_WORDS, activation=\"relu\"))\n",
    "model.add(GlobalMaxPooling1D())\n",
    "model.add(Dense(61, activation=\"relu\"))\n",
    "model.add(Dropout(0.2))\n",
    "model.add(Dense(61, activation=\"softmax\"))"
   ]
  },
  {
   "cell_type": "code",
   "execution_count": 10,
   "metadata": {},
   "outputs": [
    {
     "name": "stdout",
     "output_type": "stream",
     "text": [
      "Train on 10381 samples, validate on 2596 samples\n",
      "Epoch 1/10\n",
      "10381/10381 [==============================] - 167s 16ms/step - loss: 2.4573 - acc: 0.3373 - val_loss: 1.8878 - val_acc: 0.4091\n",
      "\n",
      "Epoch 00001: val_acc improved from -inf to 0.40909, saving model to PT_CNN\n",
      "Epoch 2/10\n",
      "10381/10381 [==============================] - 173s 17ms/step - loss: 1.7713 - acc: 0.4294 - val_loss: 1.6077 - val_acc: 0.4765\n",
      "\n",
      "Epoch 00002: val_acc improved from 0.40909 to 0.47650, saving model to PT_CNN\n",
      "Epoch 3/10\n",
      "10381/10381 [==============================] - 168s 16ms/step - loss: 1.5541 - acc: 0.4671 - val_loss: 1.4906 - val_acc: 0.4896\n",
      "\n",
      "Epoch 00003: val_acc improved from 0.47650 to 0.48960, saving model to PT_CNN\n",
      "Epoch 4/10\n",
      "10381/10381 [==============================] - 169s 16ms/step - loss: 1.4292 - acc: 0.5014 - val_loss: 1.4293 - val_acc: 0.5069\n",
      "\n",
      "Epoch 00004: val_acc improved from 0.48960 to 0.50693, saving model to PT_CNN\n",
      "Epoch 5/10\n",
      "10381/10381 [==============================] - 167s 16ms/step - loss: 1.3252 - acc: 0.5394 - val_loss: 1.3926 - val_acc: 0.5027\n",
      "\n",
      "Epoch 00005: val_acc did not improve\n",
      "Epoch 6/10\n",
      "10381/10381 [==============================] - 169s 16ms/step - loss: 1.2445 - acc: 0.5600 - val_loss: 1.3841 - val_acc: 0.5035\n",
      "\n",
      "Epoch 00006: val_acc did not improve\n",
      "Epoch 7/10\n",
      "10381/10381 [==============================] - 176s 17ms/step - loss: 1.1465 - acc: 0.6000 - val_loss: 1.5116 - val_acc: 0.4642\n",
      "\n",
      "Epoch 00007: val_acc did not improve\n",
      "Epoch 8/10\n",
      "10381/10381 [==============================] - 181s 17ms/step - loss: 1.0627 - acc: 0.6308 - val_loss: 1.3654 - val_acc: 0.5008\n",
      "\n",
      "Epoch 00008: val_acc did not improve\n",
      "Epoch 9/10\n",
      "10381/10381 [==============================] - 179s 17ms/step - loss: 0.9438 - acc: 0.6806 - val_loss: 1.5150 - val_acc: 0.5012\n",
      "\n",
      "Epoch 00009: val_acc did not improve\n",
      "Epoch 00009: early stopping\n"
     ]
    }
   ],
   "source": [
    "#model = Model(input_sequence,y)\n",
    "model.compile(optimizer=\"adam\", loss=\"categorical_crossentropy\", metrics=[\"accuracy\"])\n",
    "\n",
    "reduceLR = ReduceLROnPlateau(monitor='val_loss', factor=0.1, patience=3, verbose=1, mode='auto')\n",
    "checkpoint = ModelCheckpoint(\"PT_CNN\", monitor='val_acc', mode='auto', verbose=1, save_best_only=True)\n",
    "earlyStopping = EarlyStopping(monitor='val_acc', min_delta=0, patience=5, verbose=1)\n",
    "\n",
    "history = model.fit(Xtrain, Ytrain, batch_size=BATCH_SIZE, epochs=NUM_EPOCHS, validation_data=(Xtest, Ytest), callbacks=[checkpoint, earlyStopping, reduceLR])"
   ]
  },
  {
   "cell_type": "code",
   "execution_count": 11,
   "metadata": {},
   "outputs": [
    {
     "data": {
      "image/png": "[encoded data removed]",
      "text/plain": [
       "<matplotlib.figure.Figure at 0x1bc808ff470>"
      ]
     },
     "metadata": {},
     "output_type": "display_data"
    }
   ],
   "source": [
    "plt.subplot(211)\n",
    "plt.title(\"Accuracy\")\n",
    "plt.plot(history.history[\"acc\"], color=\"r\", label=\"training\")\n",
    "plt.plot(history.history[\"val_acc\"], color=\"b\", label=\"validation\")\n",
    "plt.legend(loc=\"best\")\n",
    "\n",
    "plt.subplot(212)\n",
    "plt.title(\"Loss\")\n",
    "plt.plot(history.history[\"loss\"], color=\"r\", label=\"training\")\n",
    "plt.plot(history.history[\"val_loss\"], color=\"b\", label=\"validation\")\n",
    "plt.legend(loc=\"best\")\n",
    "\n",
    "plt.tight_layout()\n",
    "plt.show()"
   ]
  }
 ],
 "metadata": {
  "kernelspec": {
   "display_name": "Python 3",
   "language": "python",
   "name": "python3"
  },
  "language_info": {
   "codemirror_mode": {
    "name": "ipython",
    "version": 3
   },
   "file_extension": ".py",
   "mimetype": "text/x-python",
   "name": "python",
   "nbconvert_exporter": "python",
   "pygments_lexer": "ipython3",
   "version": "3.5.4"
  }
 },
 "nbformat": 4,
 "nbformat_minor": 2
}
