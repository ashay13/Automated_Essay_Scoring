{
 "cells": [
  {
   "cell_type": "code",
   "execution_count": 15,
   "metadata": {},
   "outputs": [],
   "source": [
    "import os\n",
    "import numpy as np\n",
    "import collections\n",
    "import pandas as pd\n",
    "import nltk\n",
    "from sklearn.model_selection import train_test_split\n",
    "import matplotlib.pyplot as plt\n",
    "\n",
    "from keras import backend as K\n",
    "from keras.engine.topology import Layer\n",
    "from keras import initializers, regularizers, constraints\n",
    "\n",
    "from keras.preprocessing import text, sequence\n",
    "from keras.preprocessing.text import Tokenizer\n",
    "from keras.preprocessing.sequence import pad_sequences\n",
    "from keras.utils import to_categorical, np_utils\n",
    "from keras.layers import Dense, Input, Embedding,Conv1D,MaxPooling1D\n",
    "from keras.layers import Dropout, GlobalMaxPooling1D, LSTM\n",
    "from keras.models import Model, Sequential\n",
    "from keras.callbacks import ReduceLROnPlateau, ModelCheckpoint, EarlyStopping"
   ]
  },
  {
   "cell_type": "code",
   "execution_count": 2,
   "metadata": {},
   "outputs": [
    {
     "name": "stdout",
     "output_type": "stream",
     "text": [
      "400000 word-embedding_vectors added in dictonary\n"
     ]
    }
   ],
   "source": [
    "#Import pre-trained word vector and form a dictionary in which words in the embedding set are mapped to their respective embedding vector\n",
    "\n",
    "embeddings_dict = {}\n",
    "glove_file = open('glove.6B.100d.txt', encoding=\"utf8\")\n",
    "for line in glove_file:\n",
    "    values = line.split()\n",
    "    word = values[0]\n",
    "    coefficients = np.asarray(values[1:], dtype='float32')\n",
    "    embeddings_dict[word] = coefficients\n",
    "glove_file.close()\n",
    "\n",
    "print('%s word-embedding_vectors added in dictonary' % len(embeddings_dict))"
   ]
  },
  {
   "cell_type": "code",
   "execution_count": 3,
   "metadata": {},
   "outputs": [],
   "source": [
    "#Import dataset.\n",
    "df = pd.read_csv(\"globalenglish_essay_scoring.csv\", encoding = 'latin1')\n",
    "df = df[np.isfinite(df['domain1_score'])]\n",
    "essay_text = df.essay"
   ]
  },
  {
   "cell_type": "code",
   "execution_count": 5,
   "metadata": {},
   "outputs": [
    {
     "name": "stdout",
     "output_type": "stream",
     "text": [
      "45026 words found in dataset\n",
      "1204 words in longest essay\n",
      "2 words in smallest essay\n"
     ]
    }
   ],
   "source": [
    "#Count words in longest essay so as to pad sentence to match length \n",
    "counter = collections.Counter()\n",
    "maxlen = 0\n",
    "minlen = 1000\n",
    "for line in essay_text:\n",
    "    sent = line.strip()\n",
    "    words = [x.lower() for x in nltk.word_tokenize(sent)]\n",
    "    if len(words) > maxlen:\n",
    "        maxlen = len(words)\n",
    "    \n",
    "    if len(words) < minlen:\n",
    "        minlen = len(words)\n",
    "        \n",
    "    for word in words:\n",
    "        counter[word] += 1\n",
    "        \n",
    "print ('%s words found in dataset' % len(counter.keys()))        \n",
    "print('%s words in longest essay' % maxlen)\n",
    "print('%s words in smallest essay' % minlen)"
   ]
  },
  {
   "cell_type": "code",
   "execution_count": 7,
   "metadata": {},
   "outputs": [],
   "source": [
    "VOCAB_SIZE = 40000\n",
    "EMBEDDING_DIM = 100\n",
    "BATCH_SIZE = 128\n",
    "NUM_EPOCHS = 10\n",
    "NUM_FILTERS = 128\n",
    "NUM_WORDS = 5\n",
    "MAX_SEQ = 200"
   ]
  },
  {
   "cell_type": "code",
   "execution_count": 8,
   "metadata": {},
   "outputs": [
    {
     "name": "stdout",
     "output_type": "stream",
     "text": [
      "Found 41432 unique tokens.\n",
      "Shape of input data: (12977, 201)\n",
      "Shape of label: (12977, 61)\n"
     ]
    }
   ],
   "source": [
    "tokenizer = Tokenizer(num_words=VOCAB_SIZE)\n",
    "tokenizer.fit_on_texts(essay_text)\n",
    "sequences = tokenizer.texts_to_sequences(essay_text)\n",
    "\n",
    "word_index = tokenizer.word_index\n",
    "print('Found %s unique tokens.' % len(word_index))\n",
    "\n",
    "X = pad_sequences(sequences, maxlen=MAX_SEQ)\n",
    "eset = df.essay_set.values.reshape(df.essay_set.shape[0], 1)\n",
    "X = np.append(X, eset, 1)\n",
    "MAX_SEQ = MAX_SEQ + 1\n",
    "\n",
    "#Convert labels into one hot matrix\n",
    "score = df.domain1_score\n",
    "Y = np_utils.to_categorical(score)\n",
    "\n",
    "print('Shape of input data:', X.shape)\n",
    "print('Shape of label:', Y.shape)"
   ]
  },
  {
   "cell_type": "code",
   "execution_count": 9,
   "metadata": {},
   "outputs": [
    {
     "name": "stdout",
     "output_type": "stream",
     "text": [
      "(10381, 201) (2596, 201) (10381, 61) (2596, 61)\n"
     ]
    }
   ],
   "source": [
    "Xtrain, Xtest, Ytrain, Ytest = train_test_split(X, Y, test_size=0.2)\n",
    "print(Xtrain.shape, Xtest.shape, Ytrain.shape, Ytest.shape)"
   ]
  },
  {
   "cell_type": "code",
   "execution_count": 10,
   "metadata": {},
   "outputs": [],
   "source": [
    "# prepare embedding matrix\n",
    "num_words = len(word_index)\n",
    "embedding_matrix = np.zeros((num_words, EMBEDDING_DIM))\n",
    "for word, i in word_index.items():\n",
    "    if i >= MAX_SEQ:\n",
    "        continue\n",
    "    embedding_vector = embeddings_dict.get(word)\n",
    "    if embedding_vector is not None:\n",
    "        # words not found in embedding index will be all-zeros.\n",
    "        embedding_matrix[i] = embedding_vector\n",
    "\n",
    "# load pre-trained word embeddings into an Embedding layer\n",
    "# note that we set trainable = False so as to keep the embeddings fixed\n",
    "embedding_layer = Embedding(num_words,\n",
    "                            EMBEDDING_DIM,\n",
    "                            weights=[embedding_matrix],\n",
    "                            input_length=MAX_SEQ,\n",
    "                            trainable=True)\n"
   ]
  },
  {
   "cell_type": "code",
   "execution_count": 13,
   "metadata": {},
   "outputs": [],
   "source": [
    "class AttentionWithContext(Layer):\n",
    "    \n",
    "    def __init__(self, init='glorot_uniform', kernel_regularizer=None, bias_regularizer=None, kernel_constraint=None, bias_constraint=None,  **kwargs):\n",
    "        self.supports_masking = True\n",
    "        self.init = initializers.get(init)\n",
    "        self.kernel_initializer = initializers.get('glorot_uniform')\n",
    "\n",
    "        self.kernel_regularizer = regularizers.get(kernel_regularizer)\n",
    "        self.bias_regularizer = regularizers.get(bias_regularizer)\n",
    "\n",
    "        self.kernel_constraint = constraints.get(kernel_constraint)\n",
    "        self.bias_constraint = constraints.get(bias_constraint)\n",
    "\n",
    "        super(AttentionWithContext, self).__init__(**kwargs)\n",
    "\n",
    "    def build(self, input_shape):\n",
    "        self.kernel = self.add_weight((input_shape[-1], 1),\n",
    "                                 initializer=self.kernel_initializer,\n",
    "                                 name='{}_W'.format(self.name),\n",
    "                                 regularizer=self.kernel_regularizer,\n",
    "                                 constraint=self.kernel_constraint)\n",
    "        self.b = self.add_weight((input_shape[1],),\n",
    "                                 initializer='zero',\n",
    "                                 name='{}_b'.format(self.name),\n",
    "                                 regularizer=self.bias_regularizer,\n",
    "                                 constraint=self.bias_constraint)\n",
    "\n",
    "        self.u = self.add_weight((input_shape[1],),\n",
    "                                 initializer=self.kernel_initializer,\n",
    "                                 name='{}_u'.format(self.name),\n",
    "                                 regularizer=self.kernel_regularizer,\n",
    "                                 constraint=self.kernel_constraint)\n",
    "        self.built = True\n",
    "\n",
    "    def compute_mask(self, input, mask):\n",
    "        return None\n",
    "\n",
    "    def call(self, x, mask=None):\n",
    "        multData =  K.dot(x, self.kernel)\n",
    "        multData = K.squeeze(multData, -1)\n",
    "        multData = multData + self.b \n",
    "\n",
    "        multData = K.tanh(multData) \n",
    "\n",
    "        multData = multData * self.u\n",
    "        multData = K.exp(multData) \n",
    "\n",
    "\n",
    "        if mask is not None:\n",
    "            mask = K.cast(mask, K.floatx())\n",
    "            multData = mask*multData \n",
    "\n",
    "        multData /= K.cast(K.sum(multData, axis=1, keepdims=True) + K.epsilon(), K.floatx())\n",
    "        multData = K.expand_dims(multData)\n",
    "        weighted_input = x * multData\n",
    "        return K.sum(weighted_input, axis=1)\n",
    "\n",
    "\n",
    "    def compute_output_shape(self, input_shape):\n",
    "        return (input_shape[0], input_shape[-1],)"
   ]
  },
  {
   "cell_type": "code",
   "execution_count": 19,
   "metadata": {},
   "outputs": [],
   "source": [
    "model = Sequential()\n",
    "model.add(Embedding(num_words, EMBEDDING_DIM, weights=[embedding_matrix], input_length=MAX_SEQ, trainable=True))\n",
    "model.add(Conv1D(filters=NUM_FILTERS, kernel_size=NUM_WORDS, activation=\"relu\"))\n",
    "model.add(MaxPooling1D(pool_size=5, strides=None, padding='valid'))\n",
    "\n",
    "model.add(LSTM(MAX_SEQ,return_sequences=True))\n",
    "model.add(AttentionWithContext())\n",
    "\n",
    "model.add(Dense(61, activation=\"relu\"))\n",
    "model.add(Dropout(0.2))\n",
    "model.add(Dense(61, activation=\"softmax\"))"
   ]
  },
  {
   "cell_type": "code",
   "execution_count": 20,
   "metadata": {},
   "outputs": [
    {
     "name": "stdout",
     "output_type": "stream",
     "text": [
      "Train on 10381 samples, validate on 2596 samples\n",
      "Epoch 1/10\n",
      "10381/10381 [==============================] - 70s 7ms/step - loss: 2.6311 - acc: 0.3033 - val_loss: 1.8888 - val_acc: 0.4284\n",
      "\n",
      "Epoch 00001: val_acc improved from -inf to 0.42835, saving model to PT_CNN\n",
      "Epoch 2/10\n",
      "10381/10381 [==============================] - 66s 6ms/step - loss: 1.8508 - acc: 0.4148 - val_loss: 1.6457 - val_acc: 0.4615\n",
      "\n",
      "Epoch 00002: val_acc improved from 0.42835 to 0.46148, saving model to PT_CNN\n",
      "Epoch 3/10\n",
      "10381/10381 [==============================] - 65s 6ms/step - loss: 1.6365 - acc: 0.4500 - val_loss: 1.4686 - val_acc: 0.4946\n",
      "\n",
      "Epoch 00003: val_acc improved from 0.46148 to 0.49461, saving model to PT_CNN\n",
      "Epoch 4/10\n",
      "10381/10381 [==============================] - 63s 6ms/step - loss: 1.4916 - acc: 0.4764 - val_loss: 1.3956 - val_acc: 0.4985\n",
      "\n",
      "Epoch 00004: val_acc improved from 0.49461 to 0.49846, saving model to PT_CNN\n",
      "Epoch 5/10\n",
      "10381/10381 [==============================] - 65s 6ms/step - loss: 1.4027 - acc: 0.5064 - val_loss: 1.4231 - val_acc: 0.4811\n",
      "\n",
      "Epoch 00005: val_acc did not improve\n",
      "Epoch 6/10\n",
      "10381/10381 [==============================] - 66s 6ms/step - loss: 1.3244 - acc: 0.5292 - val_loss: 1.3170 - val_acc: 0.5308\n",
      "\n",
      "Epoch 00006: val_acc improved from 0.49846 to 0.53082, saving model to PT_CNN\n",
      "Epoch 7/10\n",
      "10381/10381 [==============================] - 66s 6ms/step - loss: 1.2309 - acc: 0.5609 - val_loss: 1.3162 - val_acc: 0.5243\n",
      "\n",
      "Epoch 00007: val_acc did not improve\n",
      "Epoch 8/10\n",
      "10381/10381 [==============================] - 65s 6ms/step - loss: 1.1492 - acc: 0.5969 - val_loss: 1.3182 - val_acc: 0.5247\n",
      "\n",
      "Epoch 00008: val_acc did not improve\n",
      "Epoch 9/10\n",
      "10381/10381 [==============================] - 66s 6ms/step - loss: 1.0615 - acc: 0.6329 - val_loss: 1.3669 - val_acc: 0.5162\n",
      "\n",
      "Epoch 00009: val_acc did not improve\n",
      "Epoch 10/10\n",
      "10381/10381 [==============================] - 66s 6ms/step - loss: 0.9770 - acc: 0.6647 - val_loss: 1.4214 - val_acc: 0.5104\n",
      "\n",
      "Epoch 00010: val_acc did not improve\n"
     ]
    }
   ],
   "source": [
    "model.compile(optimizer=\"adam\", loss=\"categorical_crossentropy\", metrics=[\"accuracy\"])\n",
    "\n",
    "reduceLR = ReduceLROnPlateau(monitor='val_loss', factor=0.1, patience=3, verbose=1, mode='auto')\n",
    "checkpoint = ModelCheckpoint(\"PT_CNN\", monitor='val_acc', mode='auto', verbose=1, save_best_only=True)\n",
    "earlyStopping = EarlyStopping(monitor='val_acc', min_delta=0, patience=5, verbose=1)\n",
    "\n",
    "history = model.fit(Xtrain, Ytrain, batch_size=BATCH_SIZE, epochs=NUM_EPOCHS, validation_data=(Xtest, Ytest), callbacks=[checkpoint, earlyStopping, reduceLR])"
   ]
  },
  {
   "cell_type": "code",
   "execution_count": 21,
   "metadata": {},
   "outputs": [
    {
     "data": {
      "image/png": "[encoded data removed]",
      "text/plain": [
       "<matplotlib.figure.Figure at 0x1b8c3184748>"
      ]
     },
     "metadata": {},
     "output_type": "display_data"
    }
   ],
   "source": [
    "plt.subplot(211)\n",
    "plt.title(\"Accuracy\")\n",
    "plt.plot(history.history[\"acc\"], color=\"r\", label=\"training\")\n",
    "plt.plot(history.history[\"val_acc\"], color=\"b\", label=\"validation\")\n",
    "plt.legend(loc=\"best\")\n",
    "\n",
    "plt.subplot(212)\n",
    "plt.title(\"Loss\")\n",
    "plt.plot(history.history[\"loss\"], color=\"r\", label=\"training\")\n",
    "plt.plot(history.history[\"val_loss\"], color=\"b\", label=\"validation\")\n",
    "plt.legend(loc=\"best\")\n",
    "\n",
    "plt.tight_layout()\n",
    "plt.show()"
   ]
  },
  {
   "cell_type": "code",
   "execution_count": 22,
   "metadata": {},
   "outputs": [
    {
     "name": "stdout",
     "output_type": "stream",
     "text": [
      "_________________________________________________________________\n",
      "Layer (type)                 Output Shape              Param #   \n",
      "=================================================================\n",
      "embedding_4 (Embedding)      (None, 201, 100)          4143200   \n",
      "_________________________________________________________________\n",
      "conv1d_3 (Conv1D)            (None, 197, 128)          64128     \n",
      "_________________________________________________________________\n",
      "max_pooling1d_3 (MaxPooling1 (None, 39, 128)           0         \n",
      "_________________________________________________________________\n",
      "lstm_2 (LSTM)                (None, 39, 201)           265320    \n",
      "_________________________________________________________________\n",
      "attention_with_context_2 (At (None, 201)               279       \n",
      "_________________________________________________________________\n",
      "dense_3 (Dense)              (None, 61)                12322     \n",
      "_________________________________________________________________\n",
      "dropout_2 (Dropout)          (None, 61)                0         \n",
      "_________________________________________________________________\n",
      "dense_4 (Dense)              (None, 61)                3782      \n",
      "=================================================================\n",
      "Total params: 4,489,031\n",
      "Trainable params: 4,489,031\n",
      "Non-trainable params: 0\n",
      "_________________________________________________________________\n"
     ]
    }
   ],
   "source": [
    "model.summary()"
   ]
  },
  {
   "cell_type": "code",
   "execution_count": null,
   "metadata": {},
   "outputs": [],
   "source": []
  }
 ],
 "metadata": {
  "kernelspec": {
   "display_name": "Python 3",
   "language": "python",
   "name": "python3"
  },
  "language_info": {
   "codemirror_mode": {
    "name": "ipython",
    "version": 3
   },
   "file_extension": ".py",
   "mimetype": "text/x-python",
   "name": "python",
   "nbconvert_exporter": "python",
   "pygments_lexer": "ipython3",
   "version": "3.5.4"
  }
 },
 "nbformat": 4,
 "nbformat_minor": 2
}
